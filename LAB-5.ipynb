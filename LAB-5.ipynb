{
 "cells": [
  {
   "cell_type": "code",
   "execution_count": 1,
   "id": "10d46788-e3be-4b44-9e8e-f181749d4ff8",
   "metadata": {},
   "outputs": [],
   "source": [
    "import numpy as np\n",
    "import matplotlib.pyplot as plt\n",
    "from sklearn import datasets\n",
    "from sklearn.model_selection import train_test_split\n",
    "from sklearn.preprocessing import StandardScaler\n",
    "from sklearn.svm import SVC\n",
    "from sklearn.metrics import classification_report, accuracy_score, confusion_matrix"
   ]
  },
  {
   "cell_type": "code",
   "execution_count": 2,
   "id": "10e1fb6d-e2da-4e7d-8ae5-ca14e402ec1d",
   "metadata": {},
   "outputs": [],
   "source": [
    "from sklearn.datasets import fetch_openml\n",
    "\n",
    "mnist = fetch_openml('mnist_784', version=1)\n",
    "\n",
    "X, y = mnist.data, mnist.target\n",
    "\n",
    "X_train, X_test, y_train, y_test = train_test_split(X, y, test_size=0.2, random_state=42)\n",
    "\n",
    "scaler = StandardScaler()\n",
    "X_train = scaler.fit_transform(X_train)\n",
    "X_test = scaler.transform(X_test)\n"
   ]
  },
  {
   "cell_type": "code",
   "execution_count": 3,
   "id": "664b5532-51b0-4849-96d7-435cb8dbd21e",
   "metadata": {},
   "outputs": [],
   "source": [
    "svm_clf = SVC(kernel='rbf', gamma='scale') \n",
    "\n",
    "svm_clf.fit(X_train, y_train)\n",
    "\n",
    "y_pred = svm_clf.predict(X_test)"
   ]
  },
  {
   "cell_type": "code",
   "execution_count": 4,
   "id": "545efbf9-b200-4b51-a24a-ac0924806983",
   "metadata": {},
   "outputs": [],
   "source": [
    "accuracy = accuracy_score(y_test, y_pred)\n",
    "conf_matrix = confusion_matrix(y_test, y_pred)\n",
    "report = classification_report(y_test, y_pred)"
   ]
  },
  {
   "cell_type": "code",
   "execution_count": 5,
   "id": "7906c77d-e65c-4ae5-be70-7d140f0d3dc2",
   "metadata": {},
   "outputs": [
    {
     "name": "stdout",
     "output_type": "stream",
     "text": [
      "Accuracy of SVM: 96.30%\n",
      "Confusion Matrix:\n",
      " [[1310    1    5    1    0    5   11    5    5    0]\n",
      " [   0 1580    8    2    1    0    0    5    3    1]\n",
      " [   3    8 1323    8    8    3    5   11    9    2]\n",
      " [   1    3   15 1362    3   13    1   24    8    3]\n",
      " [   1    1    9    0 1247    2    5    6    3   21]\n",
      " [   2    3    3   18    2 1219   13    8    5    0]\n",
      " [   3    0    3    0    7    5 1365   10    3    0]\n",
      " [   2    4   10    1    6    1    0 1459    1   19]\n",
      " [   2    7   11   11    6   10    4   12 1290    4]\n",
      " [   5    6    6   12   20    0    0   38    6 1327]]\n",
      "Classification Report:\n",
      "               precision    recall  f1-score   support\n",
      "\n",
      "           0       0.99      0.98      0.98      1343\n",
      "           1       0.98      0.99      0.98      1600\n",
      "           2       0.95      0.96      0.95      1380\n",
      "           3       0.96      0.95      0.96      1433\n",
      "           4       0.96      0.96      0.96      1295\n",
      "           5       0.97      0.96      0.96      1273\n",
      "           6       0.97      0.98      0.97      1396\n",
      "           7       0.92      0.97      0.95      1503\n",
      "           8       0.97      0.95      0.96      1357\n",
      "           9       0.96      0.93      0.95      1420\n",
      "\n",
      "    accuracy                           0.96     14000\n",
      "   macro avg       0.96      0.96      0.96     14000\n",
      "weighted avg       0.96      0.96      0.96     14000\n",
      "\n"
     ]
    }
   ],
   "source": [
    "print(f\"Accuracy of SVM: {accuracy * 100:.2f}%\")\n",
    "print(\"Confusion Matrix:\\n\", conf_matrix)\n",
    "print(\"Classification Report:\\n\", report)"
   ]
  },
  {
   "cell_type": "code",
   "execution_count": 8,
   "id": "d117302e-602f-4ea3-b4a6-16022f4a8621",
   "metadata": {},
   "outputs": [
    {
     "name": "stdout",
     "output_type": "stream",
     "text": [
      "Fitting 5 folds for each of 27 candidates, totalling 135 fits\n",
      "Best Polynomial Kernel Parameters: {'C': 10, 'coef0': 0, 'degree': 3, 'kernel': 'poly'}\n",
      "Polynomial Kernel - Test Accuracy: 0.9765714285714285\n",
      "Polynomial Kernel - Classification Report:\n",
      "               precision    recall  f1-score   support\n",
      "\n",
      "           0       0.99      0.99      0.99      1343\n",
      "           1       0.99      0.99      0.99      1600\n",
      "           2       0.97      0.98      0.98      1380\n",
      "           3       0.98      0.96      0.97      1433\n",
      "           4       0.97      0.98      0.97      1295\n",
      "           5       0.98      0.98      0.98      1273\n",
      "           6       0.99      0.98      0.99      1396\n",
      "           7       0.98      0.97      0.97      1503\n",
      "           8       0.96      0.97      0.97      1357\n",
      "           9       0.96      0.96      0.96      1420\n",
      "\n",
      "    accuracy                           0.98     14000\n",
      "   macro avg       0.98      0.98      0.98     14000\n",
      "weighted avg       0.98      0.98      0.98     14000\n",
      "\n"
     ]
    }
   ],
   "source": [
    "from sklearn.model_selection import GridSearchCV\n",
    "from sklearn.svm import SVC\n",
    "from sklearn.metrics import classification_report, accuracy_score\n",
    "\n",
    "svc = SVC()\n",
    "\n",
    "param_grid_poly = {\n",
    "    'kernel': ['poly'],\n",
    "    'degree': [2, 3, 4],         \n",
    "    'C': [0.1, 1, 10],           \n",
    "    'coef0': [0, 1, 10]          \n",
    "}\n",
    "\n",
    "grid_search_poly = GridSearchCV(SVC(), param_grid_poly, cv=5, scoring='accuracy', verbose=2, n_jobs=8)\n",
    "grid_search_poly.fit(X_train, y_train)\n",
    "\n",
    "print(f\"Best Polynomial Kernel Parameters: {grid_search_poly.best_params_}\")\n",
    "y_pred_poly = grid_search_poly.best_estimator_.predict(X_test)\n",
    "print(\"Polynomial Kernel - Test Accuracy:\", accuracy_score(y_test, y_pred_poly))\n",
    "print(\"Polynomial Kernel - Classification Report:\\n\", classification_report(y_test, y_pred_poly))\n",
    "\n"
   ]
  },
  {
   "cell_type": "code",
   "execution_count": 10,
   "id": "d8c94898-eda9-4f50-858a-93b147e67d65",
   "metadata": {},
   "outputs": [
    {
     "name": "stdout",
     "output_type": "stream",
     "text": [
      "Best Polynomial Kernel Cross-Validation Accuracy: 0.9761071428571428\n"
     ]
    }
   ],
   "source": [
    "print(f\"Best Polynomial Kernel Cross-Validation Accuracy: {grid_search_poly.best_score_}\")"
   ]
  },
  {
   "cell_type": "code",
   "execution_count": 22,
   "id": "b994e040-e413-4812-b272-fb8b7d4ab2e6",
   "metadata": {},
   "outputs": [],
   "source": [
    "#RBF Kernel with 35000  samples"
   ]
  },
  {
   "cell_type": "code",
   "execution_count": 20,
   "id": "d0ca8920-c52b-451a-af97-163521757d6f",
   "metadata": {},
   "outputs": [
    {
     "name": "stdout",
     "output_type": "stream",
     "text": [
      "Fitting 5 folds for each of 9 candidates, totalling 45 fits\n",
      "Best parameters for RBF kernel: {'C': 100, 'gamma': 0.001}\n",
      "Best estimator for RBF kernel: SVC(C=100, gamma=0.001)\n",
      "Best cross-validation accuracy for RBF kernel: 0.9638857142857142\n",
      "Test set accuracy for RBF kernel: 0.9656428571428571\n",
      "Classification report for RBF kernel:\n",
      "              precision    recall  f1-score   support\n",
      "\n",
      "           0       0.98      0.98      0.98      1343\n",
      "           1       0.98      0.99      0.98      1600\n",
      "           2       0.96      0.96      0.96      1380\n",
      "           3       0.97      0.96      0.96      1433\n",
      "           4       0.97      0.97      0.97      1295\n",
      "           5       0.96      0.96      0.96      1273\n",
      "           6       0.97      0.98      0.97      1396\n",
      "           7       0.94      0.97      0.95      1503\n",
      "           8       0.97      0.95      0.96      1357\n",
      "           9       0.96      0.95      0.95      1420\n",
      "\n",
      "    accuracy                           0.97     14000\n",
      "   macro avg       0.97      0.97      0.97     14000\n",
      "weighted avg       0.97      0.97      0.97     14000\n",
      "\n"
     ]
    }
   ],
   "source": [
    "from sklearn.svm import SVC\n",
    "from sklearn.model_selection import train_test_split, GridSearchCV\n",
    "from sklearn.metrics import accuracy_score, classification_report\n",
    "\n",
    "X_train_small, _, y_train_small, _ = train_test_split(X_train, y_train, train_size=35000, random_state=42, stratify=y_train)\n",
    "\n",
    "\n",
    "X_test = X_test  \n",
    "y_test = y_test\n",
    "\n",
    "param_grid_rbf = {\n",
    "    'C': [1, 10, 100],\n",
    "    'gamma': ['scale', 0.001, 0.0001]\n",
    "}\n",
    "\n",
    "svm_rbf = SVC(kernel='rbf')\n",
    "grid_search_rbf = GridSearchCV(svm_rbf, param_grid_rbf, cv=5, n_jobs=8, verbose=2)\n",
    "grid_search_rbf.fit(X_train_small, y_train_small)\n",
    "\n",
    "\n",
    "print(f\"Best parameters for RBF kernel: {grid_search_rbf.best_params_}\")\n",
    "print(f\"Best estimator for RBF kernel: {grid_search_rbf.best_estimator_}\")\n",
    "\n",
    "print(f\"Best cross-validation accuracy for RBF kernel: {grid_search_rbf.best_score_}\")\n",
    "\n",
    "y_pred_rbf = grid_search_rbf.best_estimator_.predict(X_test)\n",
    "test_accuracy_rbf = accuracy_score(y_test, y_pred_rbf)\n",
    "print(f\"Test set accuracy for RBF kernel: {test_accuracy_rbf}\")\n",
    "\n",
    "print(f\"Classification report for RBF kernel:\\n{classification_report(y_test, y_pred_rbf)}\")\n"
   ]
  },
  {
   "cell_type": "code",
   "execution_count": 24,
   "id": "9bcc4d55-9171-4778-8757-c8d3c57c8d5f",
   "metadata": {},
   "outputs": [],
   "source": [
    "#RBF kernel with whole data"
   ]
  },
  {
   "cell_type": "code",
   "execution_count": 36,
   "id": "8d826ce7-baf9-42f7-ac2c-d34437be69f0",
   "metadata": {},
   "outputs": [
    {
     "name": "stdout",
     "output_type": "stream",
     "text": [
      "Fitting 5 folds for each of 9 candidates, totalling 45 fits\n",
      "Best parameters for RBF kernel: {'C': 100, 'gamma': 0.001}\n",
      "Best estimator for RBF kernel: SVC(C=100, gamma=0.001)\n",
      "Best cross-validation accuracy for RBF kernel: 0.9705\n",
      "Test set accuracy for RBF kernel: 0.9705714285714285\n",
      "Classification report for RBF kernel:\n",
      "              precision    recall  f1-score   support\n",
      "\n",
      "           0       0.99      0.98      0.98      1343\n",
      "           1       0.98      0.99      0.99      1600\n",
      "           2       0.96      0.97      0.97      1380\n",
      "           3       0.97      0.97      0.97      1433\n",
      "           4       0.97      0.97      0.97      1295\n",
      "           5       0.97      0.97      0.97      1273\n",
      "           6       0.97      0.98      0.98      1396\n",
      "           7       0.94      0.97      0.96      1503\n",
      "           8       0.98      0.95      0.96      1357\n",
      "           9       0.97      0.95      0.96      1420\n",
      "\n",
      "    accuracy                           0.97     14000\n",
      "   macro avg       0.97      0.97      0.97     14000\n",
      "weighted avg       0.97      0.97      0.97     14000\n",
      "\n"
     ]
    }
   ],
   "source": [
    "from sklearn.svm import SVC\n",
    "from sklearn.model_selection import GridSearchCV\n",
    "from sklearn.metrics import accuracy_score, classification_report\n",
    "\n",
    "\n",
    "param_grid_rbf = {\n",
    "    'C': [1, 10, 100],\n",
    "    'gamma': ['scale', 0.001, 0.0001]\n",
    "}\n",
    "\n",
    "svm_rbf = SVC(kernel='rbf')\n",
    "grid_search_rbf = GridSearchCV(svm_rbf, param_grid_rbf, cv=5, n_jobs=8, verbose=2)\n",
    "grid_search_rbf.fit(X_train, y_train)\n",
    "\n",
    "\n",
    "print(f\"Best parameters for RBF kernel: {grid_search_rbf.best_params_}\")\n",
    "print(f\"Best estimator for RBF kernel: {grid_search_rbf.best_estimator_}\")\n",
    "\n",
    "print(f\"Best cross-validation accuracy for RBF kernel: {grid_search_rbf.best_score_}\")\n",
    "\n",
    "y_pred_rbf = grid_search_rbf.best_estimator_.predict(X_test)\n",
    "test_accuracy_rbf = accuracy_score(y_test, y_pred_rbf)\n",
    "print(f\"Test set accuracy for RBF kernel: {test_accuracy_rbf}\")\n",
    "\n",
    "\n",
    "print(f\"Classification report for RBF kernel:\\n{classification_report(y_test, y_pred_rbf)}\")\n"
   ]
  },
  {
   "cell_type": "code",
   "execution_count": 38,
   "id": "4ac2bc38-84f9-4b22-848b-db26eb1cad7b",
   "metadata": {},
   "outputs": [],
   "source": [
    "#Linear kernel"
   ]
  },
  {
   "cell_type": "code",
   "execution_count": 49,
   "id": "6de5e712-46d5-49d1-b5b3-c4a92084a987",
   "metadata": {},
   "outputs": [
    {
     "name": "stdout",
     "output_type": "stream",
     "text": [
      "Fitting 5 folds for each of 5 candidates, totalling 25 fits\n",
      "Best parameters for Linear kernel: {'C': 0.01}\n",
      "Best estimator for Linear kernel: SVC(C=0.01, kernel='linear')\n",
      "Best cross-validation accuracy for Linear kernel: 0.9410892857142856\n",
      "Test set accuracy for Linear kernel: 0.9425\n",
      "Classification report for Linear kernel:\n",
      "              precision    recall  f1-score   support\n",
      "\n",
      "           0       0.97      0.98      0.97      1343\n",
      "           1       0.96      0.98      0.97      1600\n",
      "           2       0.92      0.93      0.93      1380\n",
      "           3       0.92      0.93      0.93      1433\n",
      "           4       0.93      0.95      0.94      1295\n",
      "           5       0.91      0.90      0.91      1273\n",
      "           6       0.97      0.96      0.97      1396\n",
      "           7       0.95      0.95      0.95      1503\n",
      "           8       0.94      0.90      0.92      1357\n",
      "           9       0.94      0.91      0.93      1420\n",
      "\n",
      "    accuracy                           0.94     14000\n",
      "   macro avg       0.94      0.94      0.94     14000\n",
      "weighted avg       0.94      0.94      0.94     14000\n",
      "\n"
     ]
    }
   ],
   "source": [
    "from sklearn.svm import SVC\n",
    "from sklearn.model_selection import GridSearchCV\n",
    "from sklearn.metrics import accuracy_score, classification_report\n",
    "\n",
    "\n",
    "param_grid_linear = {\n",
    "    'C': [0.01, 0.1, 1, 10, 50]\n",
    "}\n",
    "\n",
    "svm_linear = SVC(kernel='linear')\n",
    "grid_search_linear = GridSearchCV(svm_linear, param_grid_linear, cv=5, n_jobs=8, verbose=2)\n",
    "grid_search_linear.fit(X_train, y_train)\n",
    "\n",
    "\n",
    "print(f\"Best parameters for Linear kernel: {grid_search_linear.best_params_}\")\n",
    "print(f\"Best estimator for Linear kernel: {grid_search_linear.best_estimator_}\")\n",
    "\n",
    "print(f\"Best cross-validation accuracy for Linear kernel: {grid_search_linear.best_score_}\")\n",
    "\n",
    "\n",
    "y_pred_linear = grid_search_linear.best_estimator_.predict(X_test)\n",
    "test_accuracy_linear = accuracy_score(y_test, y_pred_linear)\n",
    "print(f\"Test set accuracy for Linear kernel: {test_accuracy_linear}\")\n",
    "\n",
    "print(f\"Classification report for Linear kernel:\\n{classification_report(y_test, y_pred_linear)}\")"
   ]
  },
  {
   "cell_type": "code",
   "execution_count": 61,
   "id": "31fd1ad1-143f-4a60-b627-a66568387042",
   "metadata": {},
   "outputs": [],
   "source": [
    "#Comparing and picking the best kernel for SVM classifier"
   ]
  },
  {
   "cell_type": "code",
   "execution_count": 55,
   "id": "cf506c08-0f9d-4344-ad1f-a0f02efeb2db",
   "metadata": {},
   "outputs": [
    {
     "name": "stdout",
     "output_type": "stream",
     "text": [
      "       Kernel  Test Accuracy  Cross-Val Accuracy  Precision (avg)  Recall (avg)  F1-Score (avg)\n",
      "0  Polynomial        0.97657              0.9750             0.98          0.98            0.98\n",
      "1         RBF        0.97057              0.9705             0.97          0.97            0.97\n",
      "2      Linear        0.94250              0.9411             0.94          0.94            0.94\n"
     ]
    }
   ],
   "source": [
    "import pandas as pd\n",
    "\n",
    "kernel_names = ['Polynomial', 'RBF', 'Linear']\n",
    "test_accuracy = [0.97657, 0.97057, 0.9425]\n",
    "cross_val_accuracy = [0.975, 0.9705, 0.9411]\n",
    "precision_avg = [0.98, 0.97, 0.94]\n",
    "recall_avg = [0.98, 0.97, 0.94]\n",
    "f1_score_avg = [0.98, 0.97, 0.94]\n",
    "\n",
    "\n",
    "summary_table = pd.DataFrame({\n",
    "    'Kernel': kernel_names,\n",
    "    'Test Accuracy': test_accuracy,\n",
    "    'Cross-Val Accuracy': cross_val_accuracy,\n",
    "    'Precision (avg)': precision_avg,\n",
    "    'Recall (avg)': recall_avg,\n",
    "    'F1-Score (avg)': f1_score_avg\n",
    "})\n",
    "\n",
    "pd.set_option('display.max_columns', None)  \n",
    "pd.set_option('display.width', 1000)        \n",
    "\n",
    "print(summary_table)"
   ]
  },
  {
   "cell_type": "code",
   "execution_count": 128,
   "id": "a5daf1d7-f515-482d-b775-c2928c5b5c26",
   "metadata": {},
   "outputs": [
    {
     "name": "stdout",
     "output_type": "stream",
     "text": [
      "Training time for SVC: 100.8499 seconds\n"
     ]
    }
   ],
   "source": [
    "import time\n",
    "from sklearn.svm import SVC\n",
    "\n",
    "best_svc_classifier = SVC(C=10, coef0=0, degree=3, kernel='poly')\n",
    "\n",
    "start_time_svc = time.time() \n",
    "best_svc_classifier.fit(X_train, y_train)\n",
    "end_time_svc = time.time()\n",
    "\n",
    "computational_time_svc = end_time_svc - start_time_svc\n",
    "\n",
    "print(f\"Training time for SVC: {computational_time_svc:.4f} seconds\")\n"
   ]
  },
  {
   "cell_type": "code",
   "execution_count": 230,
   "id": "6b3efd60-82d4-4865-9200-e08ec301fdf8",
   "metadata": {},
   "outputs": [
    {
     "data": {
      "image/png": "[encoded data removed]",
      "text/plain": [
       "<Figure size 600x400 with 1 Axes>"
      ]
     },
     "metadata": {},
     "output_type": "display_data"
    }
   ],
   "source": [
    "import numpy as np\n",
    "import matplotlib.pyplot as plt\n",
    "\n",
    "kernels = ['Polynomial', 'RBF', 'Linear']\n",
    "test_accuracy = [0.97657, 0.97057, 0.94250]\n",
    "precision = [0.98, 0.97, 0.94]\n",
    "recall = [0.98, 0.97, 0.94]\n",
    "f1_score = [0.98, 0.97, 0.94]\n",
    "\n",
    "bar_width = 0.15\n",
    "index = np.arange(len(kernels))\n",
    "\n",
    "plt.figure(figsize=(6, 4))\n",
    "\n",
    "plt.barh(index, test_accuracy, bar_width, label='Test Accuracy', color='skyblue')\n",
    "plt.barh(index + bar_width, precision, bar_width, label='Precision', color='lightgray')\n",
    "plt.barh(index + 2 * bar_width, recall, bar_width, label='Recall', color='palegreen')\n",
    "plt.barh(index + 3 * bar_width, f1_score, bar_width, label='F1 Score', color='lightpink')\n",
    "\n",
    "plt.xlim(0.9, 1.0) \n",
    "\n",
    "plt.xlabel('Scores')\n",
    "plt.ylabel('SVM Kernels')\n",
    "plt.title('Comparison of SVM Kernels Across Different Metrics')\n",
    "\n",
    "plt.yticks(index + bar_width, kernels)\n",
    "\n",
    "plt.legend()\n",
    "\n",
    "plt.tight_layout()\n",
    "plt.show()"
   ]
  },
  {
   "cell_type": "code",
   "execution_count": 70,
   "id": "f233a8e1-9a6d-4c46-a8bf-c27c742c6206",
   "metadata": {},
   "outputs": [],
   "source": [
    "#KNN classifier "
   ]
  },
  {
   "cell_type": "code",
   "execution_count": 82,
   "id": "41eaa897-a0f0-413c-9efa-d40d205a3007",
   "metadata": {},
   "outputs": [
    {
     "name": "stdout",
     "output_type": "stream",
     "text": [
      "Training Time: 0.0403 seconds\n",
      "Test Accuracy: 97.52%\n",
      "              precision    recall  f1-score   support\n",
      "\n",
      "           0       0.98      0.99      0.99      1343\n",
      "           1       0.97      0.99      0.98      1600\n",
      "           2       0.98      0.97      0.97      1380\n",
      "           3       0.97      0.97      0.97      1433\n",
      "           4       0.98      0.97      0.97      1295\n",
      "           5       0.98      0.97      0.97      1273\n",
      "           6       0.98      0.99      0.99      1396\n",
      "           7       0.97      0.98      0.97      1503\n",
      "           8       0.99      0.95      0.97      1357\n",
      "           9       0.96      0.97      0.96      1420\n",
      "\n",
      "    accuracy                           0.98     14000\n",
      "   macro avg       0.98      0.97      0.98     14000\n",
      "weighted avg       0.98      0.98      0.98     14000\n",
      "\n"
     ]
    }
   ],
   "source": [
    "import numpy as np\n",
    "from sklearn.datasets import fetch_openml\n",
    "from sklearn.neighbors import KNeighborsClassifier\n",
    "from sklearn.model_selection import train_test_split\n",
    "from sklearn.metrics import accuracy_score, classification_report\n",
    "from sklearn.decomposition import PCA\n",
    "import matplotlib.pyplot as plt\n",
    "import time  \n",
    "\n",
    "\n",
    "mnist = fetch_openml('mnist_784', version=1)\n",
    "\n",
    "X, y = mnist[\"data\"], mnist[\"target\"]\n",
    "y = y.astype(np.int64)\n",
    "\n",
    "\n",
    "X_train, X_test, y_train, y_test = train_test_split(X, y, test_size=0.2, random_state=42)\n",
    "X_train = X_train / 255.0\n",
    "X_test = X_test / 255.0\n",
    "\n",
    "X_train = X_train.to_numpy()\n",
    "X_test = X_test.to_numpy()\n",
    "\n",
    "\n",
    "pca = PCA(n_components=0.95)  \n",
    "X_train_pca = pca.fit_transform(X_train)\n",
    "X_test_pca = pca.transform(X_test)\n",
    "\n",
    "\n",
    "knn = KNeighborsClassifier(n_neighbors=3, weights='distance')\n",
    "\n",
    "# Measuring training time\n",
    "start_time = time.time()  \n",
    "knn.fit(X_train_pca, y_train)  \n",
    "end_time = time.time()  \n",
    "\n",
    "\n",
    "training_time = end_time - start_time\n",
    "print(f\"Training Time: {training_time:.4f} seconds\")  \n",
    "\n",
    "\n",
    "y_pred = knn.predict(X_test_pca)\n",
    "\n",
    "accuracy = accuracy_score(y_test, y_pred)\n",
    "print(f\"Test Accuracy: {accuracy * 100:.2f}%\")\n",
    "\n",
    "print(classification_report(y_test, y_pred))\n"
   ]
  },
  {
   "cell_type": "code",
   "execution_count": 132,
   "id": "08dd3d0c-95d1-430d-97e4-b460adb2a406",
   "metadata": {},
   "outputs": [
    {
     "name": "stdout",
     "output_type": "stream",
     "text": [
      "Training time for KNN: 0.2565 seconds\n"
     ]
    }
   ],
   "source": [
    "import time\n",
    "from sklearn.neighbors import KNeighborsClassifier\n",
    "\n",
    "best_knn_classifier = KNeighborsClassifier(weights='distance', n_neighbors=3)\n",
    "\n",
    "start_time_knn = time.time()\n",
    "best_knn_classifier.fit(X_train, y_train)  \n",
    "end_time_knn = time.time()\n",
    "\n",
    "computational_time_knn = end_time_knn - start_time_knn\n",
    "\n",
    "print(f\"Training time for KNN: {computational_time_knn:.4f} seconds\")\n"
   ]
  },
  {
   "cell_type": "code",
   "execution_count": 72,
   "id": "b9672177-5997-4b06-8d31-b674cfabef2e",
   "metadata": {},
   "outputs": [],
   "source": [
    "#SGD classifier results"
   ]
  },
  {
   "cell_type": "code",
   "execution_count": 84,
   "id": "bea6edf1-7aa3-41a8-8739-acd5ea05c9be",
   "metadata": {},
   "outputs": [
    {
     "name": "stdout",
     "output_type": "stream",
     "text": [
      "Training Time: 2.2162 seconds\n",
      "Test Accuracy: 90.16%\n",
      "              precision    recall  f1-score   support\n",
      "\n",
      "           0       0.99      0.94      0.96      1343\n",
      "           1       0.98      0.95      0.97      1600\n",
      "           2       0.90      0.90      0.90      1380\n",
      "           3       0.90      0.88      0.89      1433\n",
      "           4       0.92      0.88      0.90      1295\n",
      "           5       0.87      0.83      0.85      1273\n",
      "           6       0.96      0.93      0.94      1396\n",
      "           7       0.95      0.91      0.93      1503\n",
      "           8       0.73      0.90      0.81      1357\n",
      "           9       0.87      0.88      0.87      1420\n",
      "\n",
      "    accuracy                           0.90     14000\n",
      "   macro avg       0.90      0.90      0.90     14000\n",
      "weighted avg       0.91      0.90      0.90     14000\n",
      "\n"
     ]
    }
   ],
   "source": [
    "import numpy as np\n",
    "from sklearn.datasets import fetch_openml\n",
    "from sklearn.linear_model import SGDClassifier\n",
    "from sklearn.model_selection import train_test_split\n",
    "from sklearn.preprocessing import StandardScaler\n",
    "from sklearn.pipeline import Pipeline\n",
    "from sklearn.metrics import accuracy_score, classification_report\n",
    "from sklearn.decomposition import PCA\n",
    "import time \n",
    "\n",
    "\n",
    "mnist = fetch_openml('mnist_784', version=1)\n",
    "\n",
    "X, y = mnist[\"data\"], mnist[\"target\"]\n",
    "y = y.astype(np.int64)\n",
    "\n",
    "\n",
    "X_train, X_test, y_train, y_test = train_test_split(X, y, test_size=0.2, random_state=42)\n",
    "X_train = X_train / 255.0\n",
    "X_test = X_test / 255.0\n",
    "\n",
    "X_train = X_train.to_numpy()\n",
    "X_test = X_test.to_numpy()\n",
    "\n",
    "\n",
    "pca = PCA(n_components=0.95)  \n",
    "X_train_pca = pca.fit_transform(X_train)\n",
    "X_test_pca = pca.transform(X_test)\n",
    "\n",
    "\n",
    "scaler = StandardScaler()\n",
    "sgd_clf = Pipeline([\n",
    "    ('scaler', scaler),\n",
    "    ('sgd', SGDClassifier(random_state=42, early_stopping=True, \n",
    "                          loss='hinge', alpha=0.0001, eta0=0.01, \n",
    "                          learning_rate='optimal', penalty='elasticnet', max_iter=1000))\n",
    "])\n",
    "\n",
    "# Measuring training time\n",
    "start_time = time.time() \n",
    "sgd_clf.fit(X_train_pca, y_train)  \n",
    "end_time = time.time()  \n",
    "\n",
    "\n",
    "training_time = end_time - start_time\n",
    "print(f\"Training Time: {training_time:.4f} seconds\")  \n",
    "\n",
    "\n",
    "y_pred = sgd_clf.predict(X_test_pca)\n",
    "\n",
    "\n",
    "accuracy = accuracy_score(y_test, y_pred)\n",
    "print(f\"Test Accuracy: {accuracy * 100:.2f}%\")\n",
    "\n",
    "print(classification_report(y_test, y_pred))"
   ]
  },
  {
   "cell_type": "code",
   "execution_count": 134,
   "id": "c86a530a-fef6-4d60-977b-46cd42135a3d",
   "metadata": {},
   "outputs": [
    {
     "name": "stdout",
     "output_type": "stream",
     "text": [
      "Training time for SGD: 24.3875 seconds\n"
     ]
    }
   ],
   "source": [
    "import time\n",
    "from sklearn.linear_model import SGDClassifier\n",
    "\n",
    "best_sgd_classifier = SGDClassifier(\n",
    "    alpha=0.0001,\n",
    "    eta0=0.01,\n",
    "    learning_rate='optimal',\n",
    "    loss='hinge',\n",
    "    max_iter=1000,\n",
    "    penalty='elasticnet',\n",
    "    random_state=42  \n",
    ")\n",
    "\n",
    "start_time_sgd = time.time()\n",
    "best_sgd_classifier.fit(X_train, y_train)  \n",
    "end_time_sgd = time.time()\n",
    "\n",
    "computational_time_sgd = end_time_sgd - start_time_sgd\n",
    "\n",
    "print(f\"Training time for SGD: {computational_time_sgd:.4f} seconds\")"
   ]
  },
  {
   "cell_type": "code",
   "execution_count": 76,
   "id": "a50a3c65-f206-4182-b6af-0d745782709a",
   "metadata": {},
   "outputs": [],
   "source": [
    "#Random Forest classifier results"
   ]
  },
  {
   "cell_type": "code",
   "execution_count": 86,
   "id": "9b4adde6-041a-4281-a947-3fa567c8746d",
   "metadata": {},
   "outputs": [
    {
     "name": "stdout",
     "output_type": "stream",
     "text": [
      "Training Time: 280.8843 seconds\n",
      "Random Forest Test Accuracy: 95.44%\n",
      "              precision    recall  f1-score   support\n",
      "\n",
      "           0       0.98      0.98      0.98      1343\n",
      "           1       0.98      0.98      0.98      1600\n",
      "           2       0.94      0.96      0.95      1380\n",
      "           3       0.93      0.94      0.94      1433\n",
      "           4       0.94      0.96      0.95      1295\n",
      "           5       0.94      0.94      0.94      1273\n",
      "           6       0.97      0.98      0.97      1396\n",
      "           7       0.96      0.96      0.96      1503\n",
      "           8       0.94      0.91      0.93      1357\n",
      "           9       0.95      0.93      0.94      1420\n",
      "\n",
      "    accuracy                           0.95     14000\n",
      "   macro avg       0.95      0.95      0.95     14000\n",
      "weighted avg       0.95      0.95      0.95     14000\n",
      "\n"
     ]
    }
   ],
   "source": [
    "import numpy as np\n",
    "from sklearn.datasets import fetch_openml\n",
    "from sklearn.ensemble import RandomForestClassifier\n",
    "from sklearn.model_selection import train_test_split\n",
    "from sklearn.metrics import accuracy_score, classification_report\n",
    "from sklearn.decomposition import PCA\n",
    "import time \n",
    "\n",
    "\n",
    "mnist = fetch_openml('mnist_784', version=1)\n",
    "\n",
    "X, y = mnist[\"data\"], mnist[\"target\"]\n",
    "y = y.astype(np.int64)\n",
    "\n",
    "\n",
    "X_train, X_test, y_train, y_test = train_test_split(X, y, test_size=0.2, random_state=42)\n",
    "X_train = X_train / 255.0\n",
    "X_test = X_test / 255.0\n",
    "\n",
    "X_train = X_train.to_numpy()\n",
    "X_test = X_test.to_numpy()\n",
    "\n",
    "\n",
    "pca = PCA(n_components=0.95)\n",
    "X_train_pca = pca.fit_transform(X_train)\n",
    "X_test_pca = pca.transform(X_test)\n",
    "\n",
    "\n",
    "best_rf = RandomForestClassifier(\n",
    "    bootstrap=False, \n",
    "    max_depth=None, \n",
    "    min_samples_leaf=1, \n",
    "    min_samples_split=2, \n",
    "    n_estimators=200, \n",
    "    random_state=42\n",
    ")\n",
    "\n",
    "# Measuring training time\n",
    "start_time = time.time()  \n",
    "best_rf.fit(X_train_pca, y_train)  \n",
    "end_time = time.time()  \n",
    "\n",
    "\n",
    "training_time = end_time - start_time\n",
    "print(f\"Training Time: {training_time:.4f} seconds\")  \n",
    "\n",
    "\n",
    "y_pred_rf = best_rf.predict(X_test_pca)\n",
    "\n",
    "\n",
    "accuracy_rf = accuracy_score(y_test, y_pred_rf)\n",
    "print(f\"Random Forest Test Accuracy: {accuracy_rf * 100:.2f}%\")\n",
    "\n",
    "print(classification_report(y_test, y_pred_rf))"
   ]
  },
  {
   "cell_type": "code",
   "execution_count": 138,
   "id": "ce4d3557-0c8f-4875-b342-4dac0735ff12",
   "metadata": {},
   "outputs": [
    {
     "name": "stdout",
     "output_type": "stream",
     "text": [
      "Training time for Random Forest: 91.7497 seconds\n"
     ]
    }
   ],
   "source": [
    "import time\n",
    "from sklearn.ensemble import RandomForestClassifier\n",
    "\n",
    "best_forest_classifier = RandomForestClassifier(\n",
    "    bootstrap=False,         \n",
    "    max_depth=None,         \n",
    "    min_samples_leaf=1,     \n",
    "    min_samples_split=2,     \n",
    "    n_estimators=200,       \n",
    "    random_state=42         \n",
    ")\n",
    "\n",
    "start_time_forest = time.time()\n",
    "best_forest_classifier.fit(X_train, y_train)  \n",
    "end_time_forest = time.time()\n",
    "\n",
    "computational_time_forest = end_time_forest - start_time_forest\n",
    "\n",
    "print(f\"Training time for Random Forest: {computational_time_forest:.4f} seconds\")\n"
   ]
  },
  {
   "cell_type": "code",
   "execution_count": 88,
   "id": "c2766f57-e6ec-431c-a4e5-ffcbfc4af996",
   "metadata": {},
   "outputs": [],
   "source": [
    "#Comparision between SVM,KNN,SGD and random forest"
   ]
  },
  {
   "cell_type": "code",
   "execution_count": 194,
   "id": "5110b06a-423c-4b75-972b-2793883c6cd3",
   "metadata": {},
   "outputs": [
    {
     "data": {
      "image/png": "[encoded data removed]",
      "text/plain": [
       "<Figure size 640x480 with 1 Axes>"
      ]
     },
     "metadata": {},
     "output_type": "display_data"
    }
   ],
   "source": [
    "import numpy as np\n",
    "import matplotlib.pyplot as plt\n",
    "\n",
    "classifiers = ['SVM', 'KNN', 'SGD', 'Random Forest']\n",
    "\n",
    "precision_scores = [0.98, 0.98, 0.90, 0.95]\n",
    "recall_scores = [0.98, 0.97, 0.90, 0.95]\n",
    "f1_scores = [0.98, 0.98, 0.90, 0.95]\n",
    "\n",
    "bar_width = 0.18\n",
    "x = np.arange(len(classifiers))\n",
    "\n",
    "plt.bar(x, precision_scores, width=bar_width, label='Precision', color='skyblue', align='center')\n",
    "plt.bar(x + bar_width, recall_scores, width=bar_width, label='Recall', color='lightgreen', align='center')\n",
    "plt.bar(x + 2 * bar_width, f1_scores, width=bar_width, label='F1 Score', color='lightcoral', align='center')\n",
    "\n",
    "plt.xlabel('Classifiers')\n",
    "plt.ylabel('Scores')\n",
    "plt.title('Comparison of Classifier Metrics')\n",
    "plt.xticks(x + bar_width, classifiers)\n",
    "\n",
    "plt.ylim(0.8, 1.0)  \n",
    "\n",
    "plt.legend()\n",
    "plt.grid(axis='y')\n",
    "\n",
    "plt.tight_layout()\n",
    "\n",
    "plt.show()\n"
   ]
  },
  {
   "cell_type": "code",
   "execution_count": 140,
   "id": "3a1958e2-1a6b-4c17-a621-c698628d5ca8",
   "metadata": {},
   "outputs": [],
   "source": [
    "#chart for training time metrics"
   ]
  },
  {
   "cell_type": "code",
   "execution_count": 152,
   "id": "378a79ee-6139-4b0a-837c-b2a2278bab7c",
   "metadata": {},
   "outputs": [
    {
     "data": {
      "image/png": "[encoded data removed]",
      "text/plain": [
       "<Figure size 600x400 with 1 Axes>"
      ]
     },
     "metadata": {},
     "output_type": "display_data"
    }
   ],
   "source": [
    "plt.figure(figsize=(6, 4))\n",
    "plt.plot(classifiers, training_times, marker='o', color='blue', linestyle='-', linewidth=2, markersize=8)\n",
    "\n",
    "plt.title('Training Time Comparison Between Classifiers', fontsize=14)\n",
    "plt.xlabel('Classifiers', fontsize=12)\n",
    "plt.ylabel('Training Time (seconds)', fontsize=12)\n",
    "\n",
    "plt.tight_layout()\n",
    "plt.show()"
   ]
  },
  {
   "cell_type": "code",
   "execution_count": null,
   "id": "4a3bcf34-c5f5-4155-93a7-54c4d8b7dd49",
   "metadata": {},
   "outputs": [],
   "source": []
  }
 ],
 "metadata": {
  "kernelspec": {
   "display_name": "Python 3 (ipykernel)",
   "language": "python",
   "name": "python3"
  },
  "language_info": {
   "codemirror_mode": {
    "name": "ipython",
    "version": 3
   },
   "file_extension": ".py",
   "mimetype": "text/x-python",
   "name": "python",
   "nbconvert_exporter": "python",
   "pygments_lexer": "ipython3",
   "version": "3.12.4"
  }
 },
 "nbformat": 4,
 "nbformat_minor": 5
}
